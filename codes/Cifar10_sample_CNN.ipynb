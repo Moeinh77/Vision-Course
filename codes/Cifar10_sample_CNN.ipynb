{
  "nbformat": 4,
  "nbformat_minor": 0,
  "metadata": {
    "colab": {
      "name": "Cifar10 sample CNN.ipynb",
      "provenance": [],
      "collapsed_sections": []
    },
    "kernelspec": {
      "name": "python3",
      "display_name": "Python 3"
    },
    "accelerator": "GPU"
  },
  "cells": [
    {
      "cell_type": "code",
      "metadata": {
        "id": "uCpjP-eRoz00"
      },
      "source": [
        "'''Train a simple deep CNN on the CIFAR10 small images dataset.\r\n",
        "It gets to 75% validation accuracy in 25 epochs, and 79% after 50 epochs.\r\n",
        "(it's still underfitting at that point, though).\r\n",
        "'''\r\n",
        "from __future__ import print_function\r\n",
        "import keras\r\n",
        "from tensorflow.keras.datasets import cifar10\r\n",
        "from tensorflow.keras.preprocessing.image import ImageDataGenerator\r\n",
        "from tensorflow.keras.models import Sequential\r\n",
        "from tensorflow.keras.layers import Dense, Dropout, Activation, Flatten, BatchNormalization\r\n",
        "from tensorflow.keras.layers import Conv2D, MaxPooling2D\r\n",
        "from tensorflow.keras.optimizers import Adam\r\n",
        "import os\r\n",
        "import matplotlib.pyplot as plt"
      ],
      "execution_count": 18,
      "outputs": []
    },
    {
      "cell_type": "code",
      "metadata": {
        "colab": {
          "base_uri": "https://localhost:8080/"
        },
        "id": "EtKNqe9_o3Ts",
        "outputId": "40425a80-7f6f-4a83-aa10-f104b13e3350"
      },
      "source": [
        "# The data, split between train and test sets:\r\n",
        "(x_train, y_train), (x_test, y_test) = cifar10.load_data()\r\n",
        "print('x_train shape:', x_train.shape)\r\n",
        "print(x_train.shape[0], 'train samples')\r\n",
        "print(x_test.shape[0], 'test samples')\r\n",
        "num_classes = 10\r\n",
        "# Convert class vectors to binary class matrices.\r\n",
        "y_train = keras.utils.to_categorical(y_train, num_classes)\r\n",
        "y_test = keras.utils.to_categorical(y_test, num_classes)\r\n",
        "\r\n",
        "x_train = x_train.astype('float32')\r\n",
        "x_test = x_test.astype('float32')\r\n",
        "x_train /= 255\r\n",
        "x_test /= 255"
      ],
      "execution_count": 5,
      "outputs": [
        {
          "output_type": "stream",
          "text": [
            "x_train shape: (50000, 32, 32, 3)\n",
            "50000 train samples\n",
            "10000 test samples\n"
          ],
          "name": "stdout"
        }
      ]
    },
    {
      "cell_type": "code",
      "metadata": {
        "id": "nsb95T5EoXLV"
      },
      "source": [
        "datagen = ImageDataGenerator(\r\n",
        "    featurewise_center=False,  # set input mean to 0 over the dataset\r\n",
        "    samplewise_center=False,  # set each sample mean to 0\r\n",
        "    featurewise_std_normalization=False,  # divide inputs by std of the dataset\r\n",
        "    samplewise_std_normalization=False,  # divide each input by its std\r\n",
        "    zca_whitening=False,  # apply ZCA whitening\r\n",
        "    zca_epsilon=1e-06,  # epsilon for ZCA whitening\r\n",
        "    rotation_range=0,  # randomly rotate images in the range (degrees, 0 to 180)\r\n",
        "    # randomly shift images horizontally (fraction of total width)\r\n",
        "    width_shift_range=0.1,\r\n",
        "    # randomly shift images vertically (fraction of total height)\r\n",
        "    height_shift_range=0.1,\r\n",
        "    shear_range=0.,  # set range for random shear\r\n",
        "    zoom_range=0.,  # set range for random zoom\r\n",
        "    channel_shift_range=0.,  # set range for random channel shifts\r\n",
        "    # set mode for filling points outside the input boundaries\r\n",
        "    fill_mode='nearest',\r\n",
        "    cval=0.,  # value used for fill_mode = \"constant\"\r\n",
        "    horizontal_flip=True,  # randomly flip images\r\n",
        "    vertical_flip=False,  # randomly flip images\r\n",
        "    # set rescaling factor (applied before any other transformation)\r\n",
        "    rescale=None,\r\n",
        "    # set function that will be applied on each input\r\n",
        "    preprocessing_function=None,\r\n",
        "    # image data format, either \"channels_first\" or \"channels_last\"\r\n",
        "    data_format=None,\r\n",
        "    # fraction of images reserved for validation (strictly between 0 and 1)\r\n",
        "    validation_split=0.0)\r\n",
        "\r\n",
        "# Compute quantities required for feature-wise normalization\r\n",
        "# (std, mean, and principal components if ZCA whitening is applied).\r\n",
        "datagen.fit(x_train)\r\n"
      ],
      "execution_count": 11,
      "outputs": []
    },
    {
      "cell_type": "code",
      "metadata": {
        "colab": {
          "base_uri": "https://localhost:8080/"
        },
        "id": "8q_0p-e0oUfA",
        "outputId": "3ff9f39c-0f62-4080-edaf-be805df1d7a7"
      },
      "source": [
        "batch_size = 64\r\n",
        "save_dir = os.path.join(os.getcwd(), 'saved_models')\r\n",
        "model_name = 'keras_cifar10_trained_model.h5'\r\n",
        "\r\n",
        "\r\n",
        "model = Sequential()\r\n",
        "model.add(Conv2D(32, (3, 3), padding='same',\r\n",
        "                 input_shape=x_train.shape[1:]))\r\n",
        "model.add(BatchNormalization())\r\n",
        "model.add(Activation('relu'))\r\n",
        "\r\n",
        "model.add(Conv2D(32, (3, 3)))\r\n",
        "model.add(Activation('relu'))\r\n",
        "model.add(BatchNormalization())\r\n",
        "model.add(MaxPooling2D(pool_size=(2, 2)))\r\n",
        "model.add(Dropout(0.25))\r\n",
        "\r\n",
        "model.add(Conv2D(64, (3, 3), padding='same'))\r\n",
        "model.add(Activation('relu'))\r\n",
        "model.add(BatchNormalization())\r\n",
        "\r\n",
        "model.add(Conv2D(64, (3, 3)))\r\n",
        "model.add(Activation('relu'))\r\n",
        "model.add(BatchNormalization())\r\n",
        "model.add(MaxPooling2D(pool_size=(2, 2)))\r\n",
        "model.add(Dropout(0.25))\r\n",
        "\r\n",
        "model.add(Flatten())\r\n",
        "model.add(Dense(512))\r\n",
        "model.add(Activation('relu'))\r\n",
        "\r\n",
        "model.add(Dropout(0.5))\r\n",
        "model.add(Dense(num_classes))\r\n",
        "model.add(Activation('softmax'))\r\n",
        "\r\n",
        "opt = Adam(lr=3e-3)\r\n",
        "\r\n",
        "model.compile(loss='categorical_crossentropy',\r\n",
        "              optimizer=opt,\r\n",
        "              metrics=['accuracy'])\r\n",
        "\r\n",
        "model.summary()"
      ],
      "execution_count": 27,
      "outputs": [
        {
          "output_type": "stream",
          "text": [
            "Model: \"sequential_5\"\n",
            "_________________________________________________________________\n",
            "Layer (type)                 Output Shape              Param #   \n",
            "=================================================================\n",
            "conv2d_20 (Conv2D)           (None, 32, 32, 32)        896       \n",
            "_________________________________________________________________\n",
            "batch_normalization_8 (Batch (None, 32, 32, 32)        128       \n",
            "_________________________________________________________________\n",
            "activation_30 (Activation)   (None, 32, 32, 32)        0         \n",
            "_________________________________________________________________\n",
            "conv2d_21 (Conv2D)           (None, 30, 30, 32)        9248      \n",
            "_________________________________________________________________\n",
            "activation_31 (Activation)   (None, 30, 30, 32)        0         \n",
            "_________________________________________________________________\n",
            "batch_normalization_9 (Batch (None, 30, 30, 32)        128       \n",
            "_________________________________________________________________\n",
            "max_pooling2d_10 (MaxPooling (None, 15, 15, 32)        0         \n",
            "_________________________________________________________________\n",
            "dropout_15 (Dropout)         (None, 15, 15, 32)        0         \n",
            "_________________________________________________________________\n",
            "conv2d_22 (Conv2D)           (None, 15, 15, 64)        18496     \n",
            "_________________________________________________________________\n",
            "activation_32 (Activation)   (None, 15, 15, 64)        0         \n",
            "_________________________________________________________________\n",
            "batch_normalization_10 (Batc (None, 15, 15, 64)        256       \n",
            "_________________________________________________________________\n",
            "conv2d_23 (Conv2D)           (None, 13, 13, 64)        36928     \n",
            "_________________________________________________________________\n",
            "activation_33 (Activation)   (None, 13, 13, 64)        0         \n",
            "_________________________________________________________________\n",
            "batch_normalization_11 (Batc (None, 13, 13, 64)        256       \n",
            "_________________________________________________________________\n",
            "max_pooling2d_11 (MaxPooling (None, 6, 6, 64)          0         \n",
            "_________________________________________________________________\n",
            "dropout_16 (Dropout)         (None, 6, 6, 64)          0         \n",
            "_________________________________________________________________\n",
            "flatten_5 (Flatten)          (None, 2304)              0         \n",
            "_________________________________________________________________\n",
            "dense_10 (Dense)             (None, 512)               1180160   \n",
            "_________________________________________________________________\n",
            "activation_34 (Activation)   (None, 512)               0         \n",
            "_________________________________________________________________\n",
            "dropout_17 (Dropout)         (None, 512)               0         \n",
            "_________________________________________________________________\n",
            "dense_11 (Dense)             (None, 10)                5130      \n",
            "_________________________________________________________________\n",
            "activation_35 (Activation)   (None, 10)                0         \n",
            "=================================================================\n",
            "Total params: 1,251,626\n",
            "Trainable params: 1,251,242\n",
            "Non-trainable params: 384\n",
            "_________________________________________________________________\n"
          ],
          "name": "stdout"
        }
      ]
    },
    {
      "cell_type": "code",
      "metadata": {
        "colab": {
          "base_uri": "https://localhost:8080/"
        },
        "id": "ohSR_rAepLk6",
        "outputId": "4f5afa76-d1b6-4741-a739-54c9e5803628"
      },
      "source": [
        "epochs = 15\r\n",
        "\r\n",
        "history= model.fit(datagen.flow(x_train, y_train,\r\n",
        "                    batch_size=batch_size),\r\n",
        "                    epochs=epochs,\r\n",
        "                    validation_data=(x_test, y_test))"
      ],
      "execution_count": 28,
      "outputs": [
        {
          "output_type": "stream",
          "text": [
            "Epoch 1/15\n",
            "782/782 [==============================] - 24s 29ms/step - loss: 2.1468 - accuracy: 0.3216 - val_loss: 1.8531 - val_accuracy: 0.4446\n",
            "Epoch 2/15\n",
            "782/782 [==============================] - 23s 30ms/step - loss: 1.3757 - accuracy: 0.5102 - val_loss: 1.0440 - val_accuracy: 0.6268\n",
            "Epoch 3/15\n",
            "782/782 [==============================] - 23s 29ms/step - loss: 1.1648 - accuracy: 0.5877 - val_loss: 1.0123 - val_accuracy: 0.6500\n",
            "Epoch 4/15\n",
            "782/782 [==============================] - 23s 29ms/step - loss: 1.0450 - accuracy: 0.6359 - val_loss: 0.9828 - val_accuracy: 0.6646\n",
            "Epoch 5/15\n",
            "782/782 [==============================] - 23s 29ms/step - loss: 0.9624 - accuracy: 0.6637 - val_loss: 0.8350 - val_accuracy: 0.7063\n",
            "Epoch 6/15\n",
            "782/782 [==============================] - 23s 29ms/step - loss: 0.9153 - accuracy: 0.6821 - val_loss: 0.8027 - val_accuracy: 0.7231\n",
            "Epoch 7/15\n",
            "782/782 [==============================] - 23s 29ms/step - loss: 0.8920 - accuracy: 0.6929 - val_loss: 0.8273 - val_accuracy: 0.7134\n",
            "Epoch 8/15\n",
            "782/782 [==============================] - 23s 29ms/step - loss: 0.8566 - accuracy: 0.7026 - val_loss: 0.7110 - val_accuracy: 0.7609\n",
            "Epoch 9/15\n",
            "782/782 [==============================] - 23s 29ms/step - loss: 0.8261 - accuracy: 0.7142 - val_loss: 0.6907 - val_accuracy: 0.7638\n",
            "Epoch 10/15\n",
            "782/782 [==============================] - 23s 29ms/step - loss: 0.8013 - accuracy: 0.7224 - val_loss: 0.9761 - val_accuracy: 0.6725\n",
            "Epoch 11/15\n",
            "782/782 [==============================] - 23s 29ms/step - loss: 0.7946 - accuracy: 0.7283 - val_loss: 0.9194 - val_accuracy: 0.6977\n",
            "Epoch 12/15\n",
            "782/782 [==============================] - 23s 30ms/step - loss: 0.7706 - accuracy: 0.7334 - val_loss: 0.7177 - val_accuracy: 0.7603\n",
            "Epoch 13/15\n",
            "782/782 [==============================] - 23s 29ms/step - loss: 0.7473 - accuracy: 0.7423 - val_loss: 0.7627 - val_accuracy: 0.7385\n",
            "Epoch 14/15\n",
            "782/782 [==============================] - 23s 29ms/step - loss: 0.7475 - accuracy: 0.7440 - val_loss: 0.7664 - val_accuracy: 0.7523\n",
            "Epoch 15/15\n",
            "782/782 [==============================] - 23s 29ms/step - loss: 0.7348 - accuracy: 0.7487 - val_loss: 0.7037 - val_accuracy: 0.7812\n"
          ],
          "name": "stdout"
        }
      ]
    },
    {
      "cell_type": "code",
      "metadata": {
        "colab": {
          "base_uri": "https://localhost:8080/",
          "height": 269
        },
        "id": "EG_DsToQs3XP",
        "outputId": "4090e709-28af-45a5-a3a2-c0bb6b21d4ce"
      },
      "source": [
        "plt.plot(history.history['accuracy'])\r\n",
        "plt.plot(history.history['val_accuracy'])\r\n",
        "plt.legend(['Train acc','Val acc'])\r\n",
        "plt.show()"
      ],
      "execution_count": 29,
      "outputs": [
        {
          "output_type": "display_data",
          "data": {
            "image/png": "[encoded data removed]",
            "text/plain": [
              "<Figure size 432x288 with 1 Axes>"
            ]
          },
          "metadata": {
            "tags": [],
            "needs_background": "light"
          }
        }
      ]
    },
    {
      "cell_type": "code",
      "metadata": {
        "colab": {
          "base_uri": "https://localhost:8080/"
        },
        "id": "C1IXmMkYspT3",
        "outputId": "1845dfe0-5cb3-4251-9830-a51e82450707"
      },
      "source": [
        "opt = Adam(lr=1e-4)\r\n",
        "\r\n",
        "model.compile(loss='categorical_crossentropy',\r\n",
        "              optimizer=opt,\r\n",
        "              metrics=['accuracy'])\r\n",
        "\r\n",
        "epochs = 15\r\n",
        "\r\n",
        "history2= model.fit(datagen.flow(x_train, y_train,\r\n",
        "                    batch_size=batch_size),\r\n",
        "                    epochs=epochs,\r\n",
        "                    validation_data=(x_test, y_test))"
      ],
      "execution_count": 30,
      "outputs": [
        {
          "output_type": "stream",
          "text": [
            "Epoch 1/15\n",
            "782/782 [==============================] - 24s 29ms/step - loss: 0.6746 - accuracy: 0.7675 - val_loss: 0.5891 - val_accuracy: 0.8021\n",
            "Epoch 2/15\n",
            "782/782 [==============================] - 23s 29ms/step - loss: 0.6368 - accuracy: 0.7767 - val_loss: 0.5744 - val_accuracy: 0.8076\n",
            "Epoch 3/15\n",
            "782/782 [==============================] - 23s 29ms/step - loss: 0.6220 - accuracy: 0.7874 - val_loss: 0.5642 - val_accuracy: 0.8085\n",
            "Epoch 4/15\n",
            "782/782 [==============================] - 23s 29ms/step - loss: 0.6262 - accuracy: 0.7830 - val_loss: 0.5555 - val_accuracy: 0.8115\n",
            "Epoch 5/15\n",
            "782/782 [==============================] - 23s 29ms/step - loss: 0.6007 - accuracy: 0.7930 - val_loss: 0.5524 - val_accuracy: 0.8128\n",
            "Epoch 6/15\n",
            "782/782 [==============================] - 23s 29ms/step - loss: 0.5918 - accuracy: 0.7960 - val_loss: 0.5539 - val_accuracy: 0.8110\n",
            "Epoch 7/15\n",
            "782/782 [==============================] - 23s 29ms/step - loss: 0.6008 - accuracy: 0.7945 - val_loss: 0.5466 - val_accuracy: 0.8146\n",
            "Epoch 8/15\n",
            "782/782 [==============================] - 23s 29ms/step - loss: 0.6040 - accuracy: 0.7924 - val_loss: 0.5337 - val_accuracy: 0.8195\n",
            "Epoch 9/15\n",
            "782/782 [==============================] - 23s 29ms/step - loss: 0.5883 - accuracy: 0.7979 - val_loss: 0.5351 - val_accuracy: 0.8180\n",
            "Epoch 10/15\n",
            "782/782 [==============================] - 23s 29ms/step - loss: 0.5893 - accuracy: 0.7938 - val_loss: 0.5325 - val_accuracy: 0.8203\n",
            "Epoch 11/15\n",
            "782/782 [==============================] - 23s 29ms/step - loss: 0.5793 - accuracy: 0.7998 - val_loss: 0.5320 - val_accuracy: 0.8185\n",
            "Epoch 12/15\n",
            "782/782 [==============================] - 23s 29ms/step - loss: 0.5725 - accuracy: 0.7987 - val_loss: 0.5361 - val_accuracy: 0.8196\n",
            "Epoch 13/15\n",
            "782/782 [==============================] - 23s 29ms/step - loss: 0.5826 - accuracy: 0.7993 - val_loss: 0.5251 - val_accuracy: 0.8231\n",
            "Epoch 14/15\n",
            "782/782 [==============================] - 22s 29ms/step - loss: 0.5780 - accuracy: 0.8034 - val_loss: 0.5163 - val_accuracy: 0.8255\n",
            "Epoch 15/15\n",
            "782/782 [==============================] - 23s 29ms/step - loss: 0.5750 - accuracy: 0.8008 - val_loss: 0.5304 - val_accuracy: 0.8201\n"
          ],
          "name": "stdout"
        }
      ]
    },
    {
      "cell_type": "code",
      "metadata": {
        "colab": {
          "base_uri": "https://localhost:8080/",
          "height": 265
        },
        "id": "WiXYnjjtvD1q",
        "outputId": "0c4748dc-c7ec-4167-a73f-c2326f6c1666"
      },
      "source": [
        "plt.plot(history2.history['accuracy'])\r\n",
        "plt.plot(history2.history['val_accuracy'])\r\n",
        "plt.legend(['Train acc','Val acc'])\r\n",
        "plt.show()"
      ],
      "execution_count": 31,
      "outputs": [
        {
          "output_type": "display_data",
          "data": {
            "image/png": "[encoded data removed]",
            "text/plain": [
              "<Figure size 432x288 with 1 Axes>"
            ]
          },
          "metadata": {
            "tags": [],
            "needs_background": "light"
          }
        }
      ]
    },
    {
      "cell_type": "code",
      "metadata": {
        "colab": {
          "base_uri": "https://localhost:8080/"
        },
        "id": "VmGe4Dstpcyx",
        "outputId": "9d738d6d-b72c-44ee-ee11-9e26dbfb1456"
      },
      "source": [
        "# Save model and weights\r\n",
        "if not os.path.isdir(save_dir):\r\n",
        "    os.makedirs(save_dir)\r\n",
        "model_path = os.path.join(save_dir, model_name)\r\n",
        "model.save(model_path)\r\n",
        "print('Saved trained model at %s ' % model_path)"
      ],
      "execution_count": 32,
      "outputs": [
        {
          "output_type": "stream",
          "text": [
            "Saved trained model at /content/saved_models/keras_cifar10_trained_model.h5 \n"
          ],
          "name": "stdout"
        }
      ]
    },
    {
      "cell_type": "code",
      "metadata": {
        "colab": {
          "base_uri": "https://localhost:8080/"
        },
        "id": "pfZG7cvDpjk2",
        "outputId": "6da3be66-3045-4577-dd63-a8780425d145"
      },
      "source": [
        "# Score trained model.\r\n",
        "scores = model.evaluate(x_test, y_test, verbose=1)\r\n",
        "print('Test loss:', scores[0])\r\n",
        "print('Test accuracy:', scores[1])"
      ],
      "execution_count": 33,
      "outputs": [
        {
          "output_type": "stream",
          "text": [
            "313/313 [==============================] - 1s 3ms/step - loss: 0.5304 - accuracy: 0.8201\n",
            "Test loss: 0.5304055213928223\n",
            "Test accuracy: 0.8201000094413757\n"
          ],
          "name": "stdout"
        }
      ]
    }
  ]
}
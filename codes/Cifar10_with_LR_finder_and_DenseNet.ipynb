{
 "cells": [
  {
   "cell_type": "code",
   "execution_count": 20,
   "metadata": {
    "id": "uCpjP-eRoz00"
   },
   "outputs": [],
   "source": [
    "from __future__ import print_function\n",
    "import keras\n",
    "from tensorflow.keras.datasets import cifar10\n",
    "from tensorflow.keras.preprocessing.image import ImageDataGenerator\n",
    "from tensorflow.keras.models import Sequential, Model\n",
    "from tensorflow.keras.callbacks import ModelCheckpoint, Callback, EarlyStopping\n",
    "from tensorflow.keras.layers import Dense, Dropout, Activation, Flatten, BatchNormalization\n",
    "from tensorflow.keras.layers import Conv2D, MaxPooling2D, Input, GlobalAveragePooling2D\n",
    "from tensorflow.keras.optimizers import Adam\n",
    "import os\n",
    "from tensorflow.keras.applications import ResNet50, DenseNet121\n",
    "import matplotlib.pyplot as plt"
   ]
  },
  {
   "cell_type": "code",
   "execution_count": 24,
   "metadata": {
    "colab": {
     "base_uri": "https://localhost:8080/"
    },
    "id": "qZDYlfYWHM7-",
    "outputId": "224fce5f-ee0f-47da-d1a2-51f3d0a2b35a"
   },
   "outputs": [
    {
     "name": "stdout",
     "output_type": "stream",
     "text": [
      "Cloning into 'utils'...\n",
      "remote: Enumerating objects: 37, done.\u001b[K\n",
      "remote: Counting objects: 100% (37/37), done.\u001b[K\n",
      "remote: Compressing objects: 100% (28/28), done.\u001b[K\n",
      "remote: Total 37 (delta 16), reused 0 (delta 0), pack-reused 0\u001b[K\n",
      "Unpacking objects: 100% (37/37), done.\n",
      "Tools imported!\n"
     ]
    }
   ],
   "source": [
    "!rm -rf utils\n",
    "!git clone https://github.com/Moeinh77/utils\n",
    "from utils.tools.clr_callback import CyclicLR\n",
    "from utils.tools.learningratefinder import LearningRateFinder\n",
    "from sklearn.metrics import confusion_matrix\n",
    "print('Tools imported!')"
   ]
  },
  {
   "cell_type": "code",
   "execution_count": 2,
   "metadata": {
    "colab": {
     "base_uri": "https://localhost:8080/"
    },
    "id": "EtKNqe9_o3Ts",
    "outputId": "8b23749c-6b3a-403c-8269-264870d64af1"
   },
   "outputs": [
    {
     "name": "stdout",
     "output_type": "stream",
     "text": [
      "Downloading data from https://www.cs.toronto.edu/~kriz/cifar-10-python.tar.gz\n",
      "170500096/170498071 [==============================] - 2s 0us/step\n",
      "x_train shape: (50000, 32, 32, 3)\n",
      "50000 train samples\n",
      "10000 test samples\n"
     ]
    }
   ],
   "source": [
    "# The data, split between train and test sets:\n",
    "(x_train, y_train), (x_test, y_test) = cifar10.load_data()\n",
    "print('x_train shape:', x_train.shape)\n",
    "print(x_train.shape[0], 'train samples')\n",
    "print(x_test.shape[0], 'test samples')\n",
    "num_classes = 10\n",
    "# Convert class vectors to binary class matrices.\n",
    "y_train = keras.utils.to_categorical(y_train, num_classes)\n",
    "y_test = keras.utils.to_categorical(y_test, num_classes)\n",
    "\n",
    "x_train = x_train.astype('float32')\n",
    "x_test = x_test.astype('float32')\n",
    "x_train /= 255\n",
    "x_test /= 255"
   ]
  },
  {
   "cell_type": "code",
   "execution_count": 3,
   "metadata": {
    "id": "nsb95T5EoXLV"
   },
   "outputs": [],
   "source": [
    "datagen = ImageDataGenerator(\n",
    "    featurewise_center=False,  # set input mean to 0 over the dataset\n",
    "    samplewise_center=False,  # set each sample mean to 0\n",
    "    featurewise_std_normalization=False,  # divide inputs by std of the dataset\n",
    "    samplewise_std_normalization=False,  # divide each input by its std\n",
    "    zca_whitening=False,  # apply ZCA whitening\n",
    "    zca_epsilon=1e-06,  # epsilon for ZCA whitening\n",
    "    rotation_range=0,  # randomly rotate images in the range (degrees, 0 to 180)\n",
    "    # randomly shift images horizontally (fraction of total width)\n",
    "    width_shift_range=0.1,\n",
    "    # randomly shift images vertically (fraction of total height)\n",
    "    height_shift_range=0.1,\n",
    "    shear_range=0.,  # set range for random shear\n",
    "    zoom_range=0.,  # set range for random zoom\n",
    "    channel_shift_range=0.,  # set range for random channel shifts\n",
    "    # set mode for filling points outside the input boundaries\n",
    "    fill_mode='nearest',\n",
    "    cval=0.,  # value used for fill_mode = \"constant\"\n",
    "    horizontal_flip=True,  # randomly flip images\n",
    "    vertical_flip=False,  # randomly flip images\n",
    "    # set rescaling factor (applied before any other transformation)\n",
    "    rescale=None,\n",
    "    # set function that will be applied on each input\n",
    "    preprocessing_function=None,\n",
    "    # image data format, either \"channels_first\" or \"channels_last\"\n",
    "    data_format=None,\n",
    "    # fraction of images reserved for validation (strictly between 0 and 1)\n",
    "    validation_split=0.0)\n",
    "\n",
    "# Compute quantities required for feature-wise normalization\n",
    "# (std, mean, and principal components if ZCA whitening is applied).\n",
    "datagen.fit(x_train)\n"
   ]
  },
  {
   "cell_type": "code",
   "execution_count": 39,
   "metadata": {
    "colab": {
     "base_uri": "https://localhost:8080/"
    },
    "id": "8q_0p-e0oUfA",
    "outputId": "4349784f-d321-48ab-8ebf-dc14d00a72f9"
   },
   "outputs": [
    {
     "name": "stdout",
     "output_type": "stream",
     "text": [
      "Model: \"model_2\"\n",
      "_________________________________________________________________\n",
      "Layer (type)                 Output Shape              Param #   \n",
      "=================================================================\n",
      "input_17 (InputLayer)        [(None, 32, 32, 3)]       0         \n",
      "_________________________________________________________________\n",
      "densenet121 (Functional)     (None, None, None, 1024)  7037504   \n",
      "_________________________________________________________________\n",
      "global_average_pooling2d_4 ( (None, 1024)              0         \n",
      "_________________________________________________________________\n",
      "dense_3 (Dense)              (None, 10)                10250     \n",
      "=================================================================\n",
      "Total params: 7,047,754\n",
      "Trainable params: 6,964,106\n",
      "Non-trainable params: 83,648\n",
      "_________________________________________________________________\n"
     ]
    }
   ],
   "source": [
    "batch_size = 64\n",
    "the_model = 'densenet121'\n",
    "in_size =32\n",
    "transfer_lr = False\n",
    "in_dim =3\n",
    "dout = 0.\n",
    "base_weights=None\n",
    "\n",
    "# here we freeze everything except the last layer\n",
    "# transfer learning make the accuracy stuck\n",
    "if transfer_lr:\n",
    "    base_weights= 'imagenet'#the_model+'_weights_tf_dim_ordering_tf_kernels_notop.h5'\n",
    "\n",
    "if the_model == 'resnet50':\n",
    "    base_model = ResNet50(weights=base_weights, include_top=False)#, input_shape=(in_size,in_size,in_dim))\n",
    "elif the_model == 'densenet121':\n",
    "#     if transfer_lr:\n",
    "#         base_weights= the_model+'_weights_tf_dim_ordering_tf_kernels_notop_2.h5'\n",
    "    base_model = DenseNet121(weights=base_weights, include_top=False)#, input_shape=(in_size,in_size,in_dim))\n",
    "    \n",
    "base_model.trainable = not transfer_lr\n",
    "\n",
    "inputs = Input(shape=(in_size, in_size, in_dim))\n",
    "    \n",
    "x = base_model(inputs, training = not transfer_lr)\n",
    "x = GlobalAveragePooling2D()(x) # instead of dense layer\n",
    "# x = Flatten()(x)\n",
    "if dout!= 0.:\n",
    "    x = Dropout(dout)(x) # Regularize with dropout\n",
    "\n",
    "activation_f = 'softmax'\n",
    "# final_neurons = num_classes\n",
    "final_neurons = 10\n",
    "\n",
    "outputs = Dense(final_neurons, activation=activation_f)(x)\n",
    "\n",
    "model = Model(inputs, outputs)\n",
    "\n",
    "model.summary()"
   ]
  },
  {
   "cell_type": "code",
   "execution_count": 41,
   "metadata": {
    "id": "MkyvCtemG9Qs"
   },
   "outputs": [],
   "source": [
    "monitor= 'val_accuracy'\n",
    "weight_address = 'weights/'+'best_model_todate_' + the_model + '.hdf5'\n",
    "\n",
    "opt = Adam() \n",
    "chkpt = ModelCheckpoint(filepath=weight_address, save_best_only=True,\n",
    "                        save_weights_only=True, monitor=monitor, mode='max')\n",
    "\n",
    "def get_lr_metric(optimizer):\n",
    "    def lr(y_true, y_pred):\n",
    "        return optimizer.lr\n",
    "    return lr\n",
    "\n",
    "lr_track = get_lr_metric(opt)\n",
    "\n",
    "model.compile(loss= 'categorical_crossentropy', metrics=['accuracy',lr_track], optimizer=opt)"
   ]
  },
  {
   "cell_type": "code",
   "execution_count": 42,
   "metadata": {
    "colab": {
     "base_uri": "https://localhost:8080/",
     "height": 468
    },
    "id": "45JjAjLGHOgU",
    "outputId": "4d23ad5f-6dcd-496c-cbc0-625e5f99726f"
   },
   "outputs": [
    {
     "name": "stdout",
     "output_type": "stream",
     "text": [
      "Using generator: True\n",
      "Epoch 1/5\n",
      "781/781 [==============================] - 55s 58ms/step - loss: 2.9951 - accuracy: 0.1209 - lr: 1.7402e-06\n",
      "Epoch 2/5\n",
      "781/781 [==============================] - 45s 57ms/step - loss: 2.0391 - accuracy: 0.3130 - lr: 1.0980e-05\n",
      "Epoch 3/5\n",
      "781/781 [==============================] - 45s 58ms/step - loss: 1.1261 - accuracy: 0.6112 - lr: 6.9280e-05\n",
      "Epoch 4/5\n",
      "781/781 [==============================] - 45s 58ms/step - loss: 0.7638 - accuracy: 0.7410 - lr: 4.3713e-04\n",
      "Epoch 5/5\n",
      "781/781 [==============================] - 45s 57ms/step - loss: 1.3475 - accuracy: 0.5818 - lr: 0.0028\n"
     ]
    },
    {
     "data": {
      "image/png": "[encoded data removed]",
      "text/plain": [
       "<Figure size 432x288 with 1 Axes>"
      ]
     },
     "metadata": {
      "needs_background": "light",
      "tags": []
     },
     "output_type": "display_data"
    }
   ],
   "source": [
    "steps_per_epoch=len(x_train)//batch_size\n",
    "\n",
    "lrf = LearningRateFinder(model)\n",
    "lrf.find(\n",
    "    datagen.flow(x_train,y_train,batch_size=batch_size),\n",
    "    1e-6, 1e-2,\n",
    "    stepsPerEpoch=steps_per_epoch,\n",
    "    batchSize=batch_size\n",
    "    ,epochs=5)\n",
    "\n",
    "lrf.plot_loss()"
   ]
  },
  {
   "cell_type": "code",
   "execution_count": 43,
   "metadata": {
    "id": "_CsSzRrQHV_u"
   },
   "outputs": [],
   "source": [
    "MIN_LR = 6e-4\n",
    "MAX_LR = 4e-4\n",
    "STEP_SIZE = 1\n",
    "CLR_METHOD = \"triangular\"\n",
    "\n",
    "clr = CyclicLR(\n",
    "    mode= CLR_METHOD,\n",
    "    base_lr= MIN_LR,\n",
    "    max_lr= MAX_LR,\n",
    "    step_size= STEP_SIZE * steps_per_epoch)"
   ]
  },
  {
   "cell_type": "code",
   "execution_count": 44,
   "metadata": {
    "colab": {
     "base_uri": "https://localhost:8080/"
    },
    "id": "9jVJ1tKZKMHY",
    "outputId": "f524ff7e-b1f9-4cac-9b72-76d660165272"
   },
   "outputs": [
    {
     "name": "stdout",
     "output_type": "stream",
     "text": [
      "mkdir: cannot create directory ‘weights’: File exists\n"
     ]
    }
   ],
   "source": [
    "history= []\n",
    "!mkdir weights"
   ]
  },
  {
   "cell_type": "code",
   "execution_count": 45,
   "metadata": {
    "colab": {
     "base_uri": "https://localhost:8080/"
    },
    "id": "ohSR_rAepLk6",
    "outputId": "64f7c616-68f9-4ccb-e553-46e1a65115c2"
   },
   "outputs": [
    {
     "name": "stdout",
     "output_type": "stream",
     "text": [
      "Epoch 1/25\n",
      "782/782 [==============================] - 51s 66ms/step - loss: 0.8732 - accuracy: 0.7029 - lr: 5.0000e-04 - val_loss: 0.6552 - val_accuracy: 0.7807 - val_lr: 4.0025e-04\n",
      "Epoch 2/25\n",
      "782/782 [==============================] - 49s 63ms/step - loss: 0.5955 - accuracy: 0.7964 - lr: 5.0026e-04 - val_loss: 0.6184 - val_accuracy: 0.7959 - val_lr: 5.9949e-04\n",
      "Epoch 3/25\n",
      "782/782 [==============================] - 49s 63ms/step - loss: 0.5873 - accuracy: 0.8005 - lr: 4.9949e-04 - val_loss: 0.5583 - val_accuracy: 0.8098 - val_lr: 4.0077e-04\n",
      "Epoch 4/25\n",
      "782/782 [==============================] - 49s 63ms/step - loss: 0.4861 - accuracy: 0.8331 - lr: 5.0076e-04 - val_loss: 1.0505 - val_accuracy: 0.6600 - val_lr: 5.9898e-04\n",
      "Epoch 5/25\n",
      "782/782 [==============================] - 49s 63ms/step - loss: 0.5518 - accuracy: 0.8131 - lr: 4.9898e-04 - val_loss: 0.5455 - val_accuracy: 0.8297 - val_lr: 4.0128e-04\n",
      "Epoch 6/25\n",
      "782/782 [==============================] - 49s 63ms/step - loss: 0.4449 - accuracy: 0.8503 - lr: 5.0127e-04 - val_loss: 0.5662 - val_accuracy: 0.8163 - val_lr: 5.9846e-04\n",
      "Epoch 7/25\n",
      "782/782 [==============================] - 50s 64ms/step - loss: 0.4841 - accuracy: 0.8360 - lr: 4.9848e-04 - val_loss: 0.5379 - val_accuracy: 0.8242 - val_lr: 4.0179e-04\n",
      "Epoch 8/25\n",
      "782/782 [==============================] - 50s 64ms/step - loss: 0.3914 - accuracy: 0.8649 - lr: 5.0177e-04 - val_loss: 0.5137 - val_accuracy: 0.8406 - val_lr: 5.9795e-04\n",
      "Epoch 9/25\n",
      "782/782 [==============================] - 50s 63ms/step - loss: 0.3571 - accuracy: 0.8752 - lr: 4.9797e-04 - val_loss: 0.4183 - val_accuracy: 0.8617 - val_lr: 4.0230e-04\n",
      "Epoch 10/25\n",
      "782/782 [==============================] - 50s 63ms/step - loss: 0.3233 - accuracy: 0.8877 - lr: 5.0228e-04 - val_loss: 0.4545 - val_accuracy: 0.8519 - val_lr: 5.9744e-04\n",
      "Epoch 11/25\n",
      "782/782 [==============================] - 50s 63ms/step - loss: 0.3103 - accuracy: 0.8919 - lr: 4.9748e-04 - val_loss: 0.4590 - val_accuracy: 0.8582 - val_lr: 4.0282e-04\n",
      "Epoch 12/25\n",
      "782/782 [==============================] - 50s 64ms/step - loss: 0.3115 - accuracy: 0.8930 - lr: 5.0277e-04 - val_loss: 0.6795 - val_accuracy: 0.7947 - val_lr: 5.9693e-04\n",
      "Epoch 13/25\n",
      "782/782 [==============================] - 50s 64ms/step - loss: 0.6378 - accuracy: 0.7886 - lr: 4.9698e-04 - val_loss: 0.5229 - val_accuracy: 0.8265 - val_lr: 4.0333e-04\n",
      "Epoch 14/25\n",
      "782/782 [==============================] - 50s 64ms/step - loss: 0.3796 - accuracy: 0.8685 - lr: 5.0327e-04 - val_loss: 0.4663 - val_accuracy: 0.8472 - val_lr: 5.9642e-04\n",
      "Epoch 15/25\n",
      "782/782 [==============================] - 50s 64ms/step - loss: 0.3276 - accuracy: 0.8883 - lr: 4.9648e-04 - val_loss: 0.6385 - val_accuracy: 0.7986 - val_lr: 4.0384e-04\n",
      "Epoch 16/25\n",
      "782/782 [==============================] - 49s 63ms/step - loss: 0.3197 - accuracy: 0.8906 - lr: 5.0376e-04 - val_loss: 0.4691 - val_accuracy: 0.8588 - val_lr: 5.9590e-04\n",
      "Epoch 17/25\n",
      "782/782 [==============================] - 49s 63ms/step - loss: 0.3401 - accuracy: 0.8852 - lr: 4.9599e-04 - val_loss: 0.4327 - val_accuracy: 0.8583 - val_lr: 4.0435e-04\n",
      "Epoch 18/25\n",
      "782/782 [==============================] - 49s 63ms/step - loss: 0.2477 - accuracy: 0.9132 - lr: 5.0425e-04 - val_loss: 0.4599 - val_accuracy: 0.8596 - val_lr: 5.9539e-04\n",
      "Epoch 19/25\n",
      "782/782 [==============================] - 50s 64ms/step - loss: 0.2692 - accuracy: 0.9082 - lr: 4.9550e-04 - val_loss: 0.4330 - val_accuracy: 0.8605 - val_lr: 4.0486e-04\n",
      "Epoch 20/25\n",
      "782/782 [==============================] - 50s 64ms/step - loss: 0.2377 - accuracy: 0.9159 - lr: 5.0474e-04 - val_loss: 0.5357 - val_accuracy: 0.8316 - val_lr: 5.9488e-04\n",
      "Epoch 21/25\n",
      "782/782 [==============================] - 49s 63ms/step - loss: 0.3646 - accuracy: 0.8782 - lr: 4.9502e-04 - val_loss: 0.4354 - val_accuracy: 0.8575 - val_lr: 4.0538e-04\n",
      "Epoch 22/25\n",
      "782/782 [==============================] - 50s 64ms/step - loss: 0.2648 - accuracy: 0.9091 - lr: 5.0523e-04 - val_loss: 0.5653 - val_accuracy: 0.8242 - val_lr: 5.9436e-04\n",
      "Epoch 23/25\n",
      "782/782 [==============================] - 50s 64ms/step - loss: 0.2356 - accuracy: 0.9179 - lr: 4.9453e-04 - val_loss: 0.4297 - val_accuracy: 0.8679 - val_lr: 4.0589e-04\n",
      "Epoch 24/25\n",
      "782/782 [==============================] - 50s 64ms/step - loss: 0.2009 - accuracy: 0.9298 - lr: 5.0571e-04 - val_loss: 0.4509 - val_accuracy: 0.8604 - val_lr: 5.9386e-04\n",
      "Epoch 25/25\n",
      "782/782 [==============================] - 50s 64ms/step - loss: 0.2128 - accuracy: 0.9260 - lr: 4.9405e-04 - val_loss: 0.4168 - val_accuracy: 0.8710 - val_lr: 4.0640e-04\n"
     ]
    }
   ],
   "source": [
    "epochs = 25\n",
    "\n",
    "history.append(model.fit(datagen.flow(x_train, y_train,\n",
    "                    batch_size=batch_size),\n",
    "                    epochs=epochs,\n",
    "                    validation_data=(x_test, y_test),callbacks=[chkpt, clr]))"
   ]
  },
  {
   "cell_type": "code",
   "execution_count": null,
   "metadata": {
    "id": "ysvaXGYZPh8P"
   },
   "outputs": [],
   "source": [
    "in 2 epochs achieved the 30 epochs of the last model"
   ]
  },
  {
   "cell_type": "code",
   "execution_count": 48,
   "metadata": {
    "colab": {
     "base_uri": "https://localhost:8080/",
     "height": 265
    },
    "id": "EG_DsToQs3XP",
    "outputId": "781e3ea3-71b7-4a6f-b6ed-8a95a4195523"
   },
   "outputs": [
    {
     "data": {
      "image/png": "[encoded data removed]",
      "text/plain": [
       "<Figure size 432x288 with 1 Axes>"
      ]
     },
     "metadata": {
      "needs_background": "light",
      "tags": []
     },
     "output_type": "display_data"
    }
   ],
   "source": [
    "plt.plot(history[0].history['accuracy'])\n",
    "plt.plot(history[0].history['val_accuracy'])\n",
    "plt.legend(['Train acc','Val acc'])\n",
    "plt.show()"
   ]
  },
  {
   "cell_type": "code",
   "execution_count": 49,
   "metadata": {
    "colab": {
     "base_uri": "https://localhost:8080/"
    },
    "id": "tBbO5tVCKtv-",
    "outputId": "5cae794d-639d-4549-ad9b-328fc4833df5"
   },
   "outputs": [
    {
     "name": "stdout",
     "output_type": "stream",
     "text": [
      "313/313 [==============================] - 4s 14ms/step - loss: 0.4168 - accuracy: 0.8710 - lr: 4.0640e-04\n"
     ]
    },
    {
     "data": {
      "text/plain": [
       "[0.41675132513046265, 0.8709999918937683, 0.0004064008535351604]"
      ]
     },
     "execution_count": 49,
     "metadata": {
      "tags": []
     },
     "output_type": "execute_result"
    }
   ],
   "source": [
    "# Load the model weights\n",
    "model.load_weights(weight_address)\n",
    "model.evaluate(x_test,y_test)"
   ]
  },
  {
   "cell_type": "code",
   "execution_count": null,
   "metadata": {
    "id": "C1IXmMkYspT3"
   },
   "outputs": [],
   "source": [
    "# # Load the model best weights and unfreeze for fine tune\n",
    "# opt = Adam()\n",
    "# lr_track = get_lr_metric(opt)\n",
    "# base_model.trainable = True\n",
    "# model.compile(loss=loss_type, metrics=['accuracy', lr_track], optimizer=opt)\n",
    "# model.summary()"
   ]
  },
  {
   "cell_type": "code",
   "execution_count": 53,
   "metadata": {
    "colab": {
     "base_uri": "https://localhost:8080/",
     "height": 468
    },
    "id": "b5CdEM8lK97F",
    "outputId": "928c7af5-b6ad-41b8-aaf6-68df5838bda1"
   },
   "outputs": [
    {
     "name": "stdout",
     "output_type": "stream",
     "text": [
      "Using generator: True\n",
      "Epoch 1/5\n",
      "781/781 [==============================] - 45s 57ms/step - loss: 0.1473 - accuracy: 0.9496 - lr: 3.9029e-08\n",
      "Epoch 2/5\n",
      "781/781 [==============================] - 45s 57ms/step - loss: 0.1484 - accuracy: 0.9483 - lr: 3.9029e-07\n",
      "Epoch 3/5\n",
      "781/781 [==============================] - 45s 58ms/step - loss: 0.1405 - accuracy: 0.9501 - lr: 3.9029e-06\n",
      "Epoch 4/5\n",
      "781/781 [==============================] - 45s 58ms/step - loss: 0.1203 - accuracy: 0.9588 - lr: 3.9029e-05\n",
      "Epoch 5/5\n",
      "781/781 [==============================] - 45s 58ms/step - loss: 0.1701 - accuracy: 0.9398 - lr: 3.9029e-04\n"
     ]
    },
    {
     "data": {
      "image/png": "[encoded data removed]",
      "text/plain": [
       "<Figure size 432x288 with 1 Axes>"
      ]
     },
     "metadata": {
      "needs_background": "light",
      "tags": []
     },
     "output_type": "display_data"
    }
   ],
   "source": [
    "lrf = LearningRateFinder(model)\n",
    "lrf.find(\n",
    "    datagen.flow(x_train,y_train,batch_size=batch_size),\n",
    "    1e-8, 1e-3,\n",
    "    stepsPerEpoch=steps_per_epoch,\n",
    "    batchSize=batch_size\n",
    "    ,epochs=5)\n",
    "\n",
    "lrf.plot_loss()"
   ]
  },
  {
   "cell_type": "code",
   "execution_count": 55,
   "metadata": {
    "id": "c609Hr4FK99u"
   },
   "outputs": [],
   "source": [
    "MIN_LR = 9e-5\n",
    "MAX_LR = 2e-4\n",
    "STEP_SIZE = 1\n",
    "CLR_METHOD = \"triangular\"\n",
    "\n",
    "clr = CyclicLR(\n",
    "    mode= CLR_METHOD,\n",
    "    base_lr= MIN_LR,\n",
    "    max_lr= MAX_LR,\n",
    "    step_size= STEP_SIZE * steps_per_epoch)"
   ]
  },
  {
   "cell_type": "code",
   "execution_count": 58,
   "metadata": {
    "colab": {
     "base_uri": "https://localhost:8080/"
    },
    "id": "CXHmkLSRK-AM",
    "outputId": "96f51613-cd05-4b9d-ceb2-8c62682a3969"
   },
   "outputs": [
    {
     "name": "stdout",
     "output_type": "stream",
     "text": [
      "Epoch 1/20\n",
      "781/781 [==============================] - 50s 64ms/step - loss: 0.1255 - accuracy: 0.9564 - lr: 1.4493e-04 - val_loss: 0.4140 - val_accuracy: 0.8755 - val_lr: 2.0000e-04\n",
      "Epoch 2/20\n",
      "781/781 [==============================] - 50s 64ms/step - loss: 0.1042 - accuracy: 0.9638 - lr: 1.4507e-04 - val_loss: 0.4221 - val_accuracy: 0.8789 - val_lr: 9.0000e-05\n",
      "Epoch 3/20\n",
      "781/781 [==============================] - 50s 63ms/step - loss: 0.0965 - accuracy: 0.9664 - lr: 1.4493e-04 - val_loss: 0.4326 - val_accuracy: 0.8790 - val_lr: 2.0000e-04\n",
      "Epoch 4/20\n",
      "781/781 [==============================] - 50s 64ms/step - loss: 0.0841 - accuracy: 0.9707 - lr: 1.4507e-04 - val_loss: 0.4448 - val_accuracy: 0.8798 - val_lr: 9.0000e-05\n",
      "Epoch 5/20\n",
      "781/781 [==============================] - 50s 64ms/step - loss: 0.0758 - accuracy: 0.9732 - lr: 1.4493e-04 - val_loss: 0.4774 - val_accuracy: 0.8761 - val_lr: 2.0000e-04\n",
      "Epoch 6/20\n",
      "781/781 [==============================] - 50s 64ms/step - loss: 0.0704 - accuracy: 0.9757 - lr: 1.4507e-04 - val_loss: 0.4645 - val_accuracy: 0.8790 - val_lr: 9.0000e-05\n",
      "Epoch 7/20\n",
      "781/781 [==============================] - 49s 63ms/step - loss: 0.0678 - accuracy: 0.9764 - lr: 1.4493e-04 - val_loss: 0.4902 - val_accuracy: 0.8767 - val_lr: 2.0000e-04\n",
      "Epoch 8/20\n",
      "781/781 [==============================] - 49s 63ms/step - loss: 0.0715 - accuracy: 0.9754 - lr: 1.4507e-04 - val_loss: 0.4752 - val_accuracy: 0.8795 - val_lr: 9.0000e-05\n",
      "Epoch 9/20\n",
      "781/781 [==============================] - 49s 63ms/step - loss: 0.0559 - accuracy: 0.9805 - lr: 1.4493e-04 - val_loss: 0.5079 - val_accuracy: 0.8778 - val_lr: 2.0000e-04\n",
      "Epoch 10/20\n",
      "781/781 [==============================] - 50s 64ms/step - loss: 0.0624 - accuracy: 0.9779 - lr: 1.4507e-04 - val_loss: 0.4690 - val_accuracy: 0.8846 - val_lr: 9.0000e-05\n",
      "Epoch 11/20\n",
      "781/781 [==============================] - 49s 63ms/step - loss: 0.0565 - accuracy: 0.9807 - lr: 1.4493e-04 - val_loss: 0.5150 - val_accuracy: 0.8768 - val_lr: 2.0000e-04\n",
      "Epoch 12/20\n",
      "781/781 [==============================] - 49s 63ms/step - loss: 0.0543 - accuracy: 0.9809 - lr: 1.4507e-04 - val_loss: 0.4950 - val_accuracy: 0.8848 - val_lr: 9.0000e-05\n",
      "Epoch 13/20\n",
      "781/781 [==============================] - 50s 63ms/step - loss: 0.0487 - accuracy: 0.9826 - lr: 1.4493e-04 - val_loss: 0.5273 - val_accuracy: 0.8788 - val_lr: 2.0000e-04\n",
      "Epoch 14/20\n",
      "781/781 [==============================] - 50s 63ms/step - loss: 0.0529 - accuracy: 0.9810 - lr: 1.4507e-04 - val_loss: 0.5051 - val_accuracy: 0.8819 - val_lr: 9.0000e-05\n",
      "Epoch 15/20\n",
      "781/781 [==============================] - 50s 63ms/step - loss: 0.0406 - accuracy: 0.9860 - lr: 1.4493e-04 - val_loss: 0.5569 - val_accuracy: 0.8801 - val_lr: 2.0000e-04\n",
      "Epoch 16/20\n",
      "781/781 [==============================] - 50s 64ms/step - loss: 0.0517 - accuracy: 0.9818 - lr: 1.4507e-04 - val_loss: 0.5106 - val_accuracy: 0.8838 - val_lr: 9.0000e-05\n",
      "Epoch 17/20\n",
      "781/781 [==============================] - 50s 64ms/step - loss: 0.0407 - accuracy: 0.9862 - lr: 1.4493e-04 - val_loss: 0.5562 - val_accuracy: 0.8784 - val_lr: 2.0000e-04\n",
      "Epoch 18/20\n",
      "781/781 [==============================] - 49s 63ms/step - loss: 0.0466 - accuracy: 0.9837 - lr: 1.4507e-04 - val_loss: 0.5215 - val_accuracy: 0.8861 - val_lr: 9.0000e-05\n",
      "Epoch 19/20\n",
      "781/781 [==============================] - 50s 64ms/step - loss: 0.0429 - accuracy: 0.9856 - lr: 1.4493e-04 - val_loss: 0.5833 - val_accuracy: 0.8749 - val_lr: 2.0000e-04\n",
      "Epoch 20/20\n",
      "781/781 [==============================] - 50s 64ms/step - loss: 0.0438 - accuracy: 0.9850 - lr: 1.4507e-04 - val_loss: 0.5305 - val_accuracy: 0.8835 - val_lr: 9.0000e-05\n"
     ]
    }
   ],
   "source": [
    "nb_epochs = 20\n",
    "# Fit the model\n",
    "\n",
    "history.append(model.fit(datagen.flow(x_train,y_train,batch_size=batch_size), \n",
    "                              epochs=nb_epochs, steps_per_epoch=steps_per_epoch,\n",
    "                              validation_data=(x_test, y_test),callbacks=[chkpt, clr]))\n"
   ]
  },
  {
   "cell_type": "code",
   "execution_count": 60,
   "metadata": {
    "colab": {
     "base_uri": "https://localhost:8080/",
     "height": 265
    },
    "id": "WiXYnjjtvD1q",
    "outputId": "bf9bc2a1-5d88-4364-c845-d67e33db545e"
   },
   "outputs": [
    {
     "data": {
      "image/png": "[encoded data removed]",
      "text/plain": [
       "<Figure size 432x288 with 1 Axes>"
      ]
     },
     "metadata": {
      "needs_background": "light",
      "tags": []
     },
     "output_type": "display_data"
    }
   ],
   "source": [
    "plt.plot(history[1].history['accuracy'])\n",
    "plt.plot(history[1].history['val_accuracy'])\n",
    "plt.legend(['Train acc','Val acc'])\n",
    "plt.show()"
   ]
  },
  {
   "cell_type": "code",
   "execution_count": 61,
   "metadata": {
    "colab": {
     "base_uri": "https://localhost:8080/"
    },
    "id": "VmGe4Dstpcyx",
    "outputId": "4d4d550f-79c3-4731-8305-120c7fb3e0ac"
   },
   "outputs": [
    {
     "name": "stdout",
     "output_type": "stream",
     "text": [
      "Saved trained model at /content/saved_models/keras_cifar10_trained_model.h5 \n"
     ]
    }
   ],
   "source": [
    "# Save model and weights\n",
    "if not os.path.isdir(save_dir):\n",
    "    os.makedirs(save_dir)\n",
    "model_path = os.path.join(save_dir, model_name)\n",
    "model.save(model_path)\n",
    "print('Saved trained model at %s ' % model_path)"
   ]
  },
  {
   "cell_type": "code",
   "execution_count": 62,
   "metadata": {
    "colab": {
     "base_uri": "https://localhost:8080/"
    },
    "id": "pfZG7cvDpjk2",
    "outputId": "9bae6cf8-7e5d-468a-8b29-e1de41f67204"
   },
   "outputs": [
    {
     "name": "stdout",
     "output_type": "stream",
     "text": [
      "313/313 [==============================] - 4s 14ms/step - loss: 0.5305 - accuracy: 0.8835 - lr: 9.0000e-05\n",
      "Test loss: 0.5305074453353882\n",
      "Test accuracy: 0.8834999799728394\n"
     ]
    }
   ],
   "source": [
    "# Score trained model.\n",
    "scores = model.evaluate(x_test, y_test, verbose=1)\n",
    "print('Test loss:', scores[0])\n",
    "print('Test accuracy:', scores[1])"
   ]
  }
 ],
 "metadata": {
  "accelerator": "GPU",
  "colab": {
   "collapsed_sections": [],
   "name": "Cifar10 with LR finder and DenseNet.ipynb",
   "provenance": []
  },
  "kernelspec": {
   "display_name": "Python 3",
   "language": "python",
   "name": "python3"
  },
  "language_info": {
   "codemirror_mode": {
    "name": "ipython",
    "version": 3
   },
   "file_extension": ".py",
   "mimetype": "text/x-python",
   "name": "python",
   "nbconvert_exporter": "python",
   "pygments_lexer": "ipython3",
   "version": "3.7.3"
  }
 },
 "nbformat": 4,
 "nbformat_minor": 1
}
